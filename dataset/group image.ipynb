{
 "cells": [
  {
   "cell_type": "code",
   "execution_count": 15,
   "metadata": {},
   "outputs": [],
   "source": [
    "import os\n",
    "import shutil\n",
    "\n",
    "# Path to dataset directory\n",
    "dataset_dir = '../dataset/'\n",
    "\n",
    "# Path to train images and labels directories\n",
    "train_images_dir = os.path.join(dataset_dir, 'train/images')\n",
    "train_labels_dir = os.path.join(dataset_dir, 'train/labels')\n",
    "\n",
    "# Path to directory where grouped images will be stored\n",
    "grouped_images_dir = os.path.join(dataset_dir, 'grouped_images')\n",
    "os.makedirs(grouped_images_dir, exist_ok=True)\n",
    "\n",
    "# Read labels for each image in train set\n",
    "for label_file in os.listdir(train_labels_dir):\n",
    "    with open(os.path.join(train_labels_dir, label_file), 'r') as f:\n",
    "        # Read lines from label file\n",
    "        lines = f.readlines()\n",
    "        \n",
    "        # Extract class label from the first line\n",
    "        class_label = int(lines[0].split()[0])\n",
    "        \n",
    "        # Create directory for class if not exists\n",
    "        class_dir = os.path.join(grouped_images_dir, str(class_label))\n",
    "        os.makedirs(class_dir, exist_ok=True)\n",
    "        \n",
    "        # Copy image file to class directory\n",
    "        image_filename = os.path.splitext(label_file)[0] + '.jpg'\n",
    "        image_source = os.path.join(train_images_dir, image_filename)\n",
    "        image_destination = os.path.join(class_dir, image_filename)\n",
    "        shutil.copy(image_source, image_destination)\n"
   ]
  }
 ],
 "metadata": {
  "kernelspec": {
   "display_name": "base",
   "language": "python",
   "name": "python3"
  },
  "language_info": {
   "codemirror_mode": {
    "name": "ipython",
    "version": 3
   },
   "file_extension": ".py",
   "mimetype": "text/x-python",
   "name": "python",
   "nbconvert_exporter": "python",
   "pygments_lexer": "ipython3",
   "version": "3.11.7"
  }
 },
 "nbformat": 4,
 "nbformat_minor": 2
}
